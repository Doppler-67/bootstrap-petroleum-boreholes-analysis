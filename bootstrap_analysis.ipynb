{
  "nbformat": 4,
  "nbformat_minor": 0,
  "metadata": {
    "colab": {
      "name": "bootstrap_analysis.ipynb",
      "provenance": [],
      "mount_file_id": "145PdVkEFruLNwK3P7vWbMbyxGq_dTyq3",
      "authorship_tag": "ABX9TyPM/x0Uce94OrzofO+K8Mfx",
      "include_colab_link": true
    },
    "kernelspec": {
      "name": "python3",
      "display_name": "Python 3"
    },
    "language_info": {
      "name": "python"
    }
  },
  "cells": [
    {
      "cell_type": "markdown",
      "metadata": {
        "id": "view-in-github",
        "colab_type": "text"
      },
      "source": [
        "<a href=\"https://colab.research.google.com/github/Doppler-67/bootstrap-petroleum-boreholes-analysis/blob/main/bootstrap_analysis.ipynb\" target=\"_parent\"><img src=\"https://colab.research.google.com/assets/colab-badge.svg\" alt=\"Open In Colab\"/></a>"
      ]
    },
    {
      "cell_type": "markdown",
      "source": [
        "**Данные:**"
      ],
      "metadata": {
        "id": "z1_4ngyR-Bxx"
      }
    },
    {
      "cell_type": "markdown",
      "source": [
        "Имеются пробы нефти в трёх регионах: в каждом 10 000 месторождений, где измерили качество нефти и объём её запасов."
      ],
      "metadata": {
        "id": "OyWTDujx-OfO"
      }
    },
    {
      "cell_type": "markdown",
      "source": [
        "**Цель проекта:**"
      ],
      "metadata": {
        "id": "DfkdGSdk-Bov"
      }
    },
    {
      "cell_type": "markdown",
      "source": [
        "Нужно проанализировать возможную прибыль и риски и решить в каком регионе лучше всего вести добычу нефти. "
      ],
      "metadata": {
        "id": "T1nYUTiD9OsM"
      }
    },
    {
      "cell_type": "markdown",
      "source": [
        "⭕ *Более подробная информация находится в README файле.*  "
      ],
      "metadata": {
        "id": "cCIyzIZd_MnC"
      }
    },
    {
      "cell_type": "markdown",
      "source": [
        "# **Importing libraries**"
      ],
      "metadata": {
        "id": "oGlmVe5h_H6L"
      }
    },
    {
      "cell_type": "code",
      "execution_count": 1,
      "metadata": {
        "id": "wCZyxkMunuCs"
      },
      "outputs": [],
      "source": [
        "import pandas as pd\n",
        "import seaborn as sns\n",
        "import numpy as np\n",
        "import matplotlib.pyplot as plt\n",
        "from sklearn.linear_model import LinearRegression\n",
        "from sklearn.model_selection import train_test_split\n",
        "from sklearn.metrics import mean_squared_error"
      ]
    },
    {
      "cell_type": "code",
      "source": [
        "sns.set()"
      ],
      "metadata": {
        "id": "cG4QCpKXR4T7"
      },
      "execution_count": 2,
      "outputs": []
    },
    {
      "cell_type": "markdown",
      "source": [
        "#**Data understanding**"
      ],
      "metadata": {
        "id": "fKluqiePIM6t"
      }
    },
    {
      "cell_type": "code",
      "source": [
        "first_region = pd.read_csv('/content/drive/MyDrive/bootstrap_analysis_ds_project/geo_data_0.csv')\n",
        "second_region = pd.read_csv('/content/drive/MyDrive/bootstrap_analysis_ds_project/geo_data_1.csv')\n",
        "third_region = pd.read_csv('/content/drive/MyDrive/bootstrap_analysis_ds_project/geo_data_2.csv')"
      ],
      "metadata": {
        "id": "9b_CSDcto-wD"
      },
      "execution_count": 3,
      "outputs": []
    },
    {
      "cell_type": "markdown",
      "source": [
        "Изучим данные."
      ],
      "metadata": {
        "id": "Fr1doZf8qAGE"
      }
    },
    {
      "cell_type": "code",
      "source": [
        "regions = [first_region, second_region, third_region]"
      ],
      "metadata": {
        "id": "seW8FLECInzi"
      },
      "execution_count": 4,
      "outputs": []
    },
    {
      "cell_type": "code",
      "source": [
        "for index, region in enumerate(regions):\n",
        "    print(f'\\n{str(index+1)} region:')\n",
        "    display(region.head())\n",
        "    print('\\n')\n",
        "    region.info()\n",
        "    print('-'*55)"
      ],
      "metadata": {
        "colab": {
          "base_uri": "https://localhost:8080/",
          "height": 1000
        },
        "id": "qE_H7aYqp_Ma",
        "outputId": "72c62591-7e49-437d-fa4e-8db35390e1f0"
      },
      "execution_count": 5,
      "outputs": [
        {
          "output_type": "stream",
          "name": "stdout",
          "text": [
            "\n",
            "1 region:\n"
          ]
        },
        {
          "output_type": "display_data",
          "data": {
            "text/plain": [
              "      id        f0        f1        f2     product\n",
              "0  txEyH  0.705745 -0.497823  1.221170  105.280062\n",
              "1  2acmU  1.334711 -0.340164  4.365080   73.037750\n",
              "2  409Wp  1.022732  0.151990  1.419926   85.265647\n",
              "3  iJLyR -0.032172  0.139033  2.978566  168.620776\n",
              "4  Xdl7t  1.988431  0.155413  4.751769  154.036647"
            ],
            "text/html": [
              "\n",
              "  <div id=\"df-775a56fe-37ae-4731-bb66-cda381fe10f6\">\n",
              "    <div class=\"colab-df-container\">\n",
              "      <div>\n",
              "<style scoped>\n",
              "    .dataframe tbody tr th:only-of-type {\n",
              "        vertical-align: middle;\n",
              "    }\n",
              "\n",
              "    .dataframe tbody tr th {\n",
              "        vertical-align: top;\n",
              "    }\n",
              "\n",
              "    .dataframe thead th {\n",
              "        text-align: right;\n",
              "    }\n",
              "</style>\n",
              "<table border=\"1\" class=\"dataframe\">\n",
              "  <thead>\n",
              "    <tr style=\"text-align: right;\">\n",
              "      <th></th>\n",
              "      <th>id</th>\n",
              "      <th>f0</th>\n",
              "      <th>f1</th>\n",
              "      <th>f2</th>\n",
              "      <th>product</th>\n",
              "    </tr>\n",
              "  </thead>\n",
              "  <tbody>\n",
              "    <tr>\n",
              "      <th>0</th>\n",
              "      <td>txEyH</td>\n",
              "      <td>0.705745</td>\n",
              "      <td>-0.497823</td>\n",
              "      <td>1.221170</td>\n",
              "      <td>105.280062</td>\n",
              "    </tr>\n",
              "    <tr>\n",
              "      <th>1</th>\n",
              "      <td>2acmU</td>\n",
              "      <td>1.334711</td>\n",
              "      <td>-0.340164</td>\n",
              "      <td>4.365080</td>\n",
              "      <td>73.037750</td>\n",
              "    </tr>\n",
              "    <tr>\n",
              "      <th>2</th>\n",
              "      <td>409Wp</td>\n",
              "      <td>1.022732</td>\n",
              "      <td>0.151990</td>\n",
              "      <td>1.419926</td>\n",
              "      <td>85.265647</td>\n",
              "    </tr>\n",
              "    <tr>\n",
              "      <th>3</th>\n",
              "      <td>iJLyR</td>\n",
              "      <td>-0.032172</td>\n",
              "      <td>0.139033</td>\n",
              "      <td>2.978566</td>\n",
              "      <td>168.620776</td>\n",
              "    </tr>\n",
              "    <tr>\n",
              "      <th>4</th>\n",
              "      <td>Xdl7t</td>\n",
              "      <td>1.988431</td>\n",
              "      <td>0.155413</td>\n",
              "      <td>4.751769</td>\n",
              "      <td>154.036647</td>\n",
              "    </tr>\n",
              "  </tbody>\n",
              "</table>\n",
              "</div>\n",
              "      <button class=\"colab-df-convert\" onclick=\"convertToInteractive('df-775a56fe-37ae-4731-bb66-cda381fe10f6')\"\n",
              "              title=\"Convert this dataframe to an interactive table.\"\n",
              "              style=\"display:none;\">\n",
              "        \n",
              "  <svg xmlns=\"http://www.w3.org/2000/svg\" height=\"24px\"viewBox=\"0 0 24 24\"\n",
              "       width=\"24px\">\n",
              "    <path d=\"M0 0h24v24H0V0z\" fill=\"none\"/>\n",
              "    <path d=\"M18.56 5.44l.94 2.06.94-2.06 2.06-.94-2.06-.94-.94-2.06-.94 2.06-2.06.94zm-11 1L8.5 8.5l.94-2.06 2.06-.94-2.06-.94L8.5 2.5l-.94 2.06-2.06.94zm10 10l.94 2.06.94-2.06 2.06-.94-2.06-.94-.94-2.06-.94 2.06-2.06.94z\"/><path d=\"M17.41 7.96l-1.37-1.37c-.4-.4-.92-.59-1.43-.59-.52 0-1.04.2-1.43.59L10.3 9.45l-7.72 7.72c-.78.78-.78 2.05 0 2.83L4 21.41c.39.39.9.59 1.41.59.51 0 1.02-.2 1.41-.59l7.78-7.78 2.81-2.81c.8-.78.8-2.07 0-2.86zM5.41 20L4 18.59l7.72-7.72 1.47 1.35L5.41 20z\"/>\n",
              "  </svg>\n",
              "      </button>\n",
              "      \n",
              "  <style>\n",
              "    .colab-df-container {\n",
              "      display:flex;\n",
              "      flex-wrap:wrap;\n",
              "      gap: 12px;\n",
              "    }\n",
              "\n",
              "    .colab-df-convert {\n",
              "      background-color: #E8F0FE;\n",
              "      border: none;\n",
              "      border-radius: 50%;\n",
              "      cursor: pointer;\n",
              "      display: none;\n",
              "      fill: #1967D2;\n",
              "      height: 32px;\n",
              "      padding: 0 0 0 0;\n",
              "      width: 32px;\n",
              "    }\n",
              "\n",
              "    .colab-df-convert:hover {\n",
              "      background-color: #E2EBFA;\n",
              "      box-shadow: 0px 1px 2px rgba(60, 64, 67, 0.3), 0px 1px 3px 1px rgba(60, 64, 67, 0.15);\n",
              "      fill: #174EA6;\n",
              "    }\n",
              "\n",
              "    [theme=dark] .colab-df-convert {\n",
              "      background-color: #3B4455;\n",
              "      fill: #D2E3FC;\n",
              "    }\n",
              "\n",
              "    [theme=dark] .colab-df-convert:hover {\n",
              "      background-color: #434B5C;\n",
              "      box-shadow: 0px 1px 3px 1px rgba(0, 0, 0, 0.15);\n",
              "      filter: drop-shadow(0px 1px 2px rgba(0, 0, 0, 0.3));\n",
              "      fill: #FFFFFF;\n",
              "    }\n",
              "  </style>\n",
              "\n",
              "      <script>\n",
              "        const buttonEl =\n",
              "          document.querySelector('#df-775a56fe-37ae-4731-bb66-cda381fe10f6 button.colab-df-convert');\n",
              "        buttonEl.style.display =\n",
              "          google.colab.kernel.accessAllowed ? 'block' : 'none';\n",
              "\n",
              "        async function convertToInteractive(key) {\n",
              "          const element = document.querySelector('#df-775a56fe-37ae-4731-bb66-cda381fe10f6');\n",
              "          const dataTable =\n",
              "            await google.colab.kernel.invokeFunction('convertToInteractive',\n",
              "                                                     [key], {});\n",
              "          if (!dataTable) return;\n",
              "\n",
              "          const docLinkHtml = 'Like what you see? Visit the ' +\n",
              "            '<a target=\"_blank\" href=https://colab.research.google.com/notebooks/data_table.ipynb>data table notebook</a>'\n",
              "            + ' to learn more about interactive tables.';\n",
              "          element.innerHTML = '';\n",
              "          dataTable['output_type'] = 'display_data';\n",
              "          await google.colab.output.renderOutput(dataTable, element);\n",
              "          const docLink = document.createElement('div');\n",
              "          docLink.innerHTML = docLinkHtml;\n",
              "          element.appendChild(docLink);\n",
              "        }\n",
              "      </script>\n",
              "    </div>\n",
              "  </div>\n",
              "  "
            ]
          },
          "metadata": {}
        },
        {
          "output_type": "stream",
          "name": "stdout",
          "text": [
            "\n",
            "\n",
            "<class 'pandas.core.frame.DataFrame'>\n",
            "RangeIndex: 100000 entries, 0 to 99999\n",
            "Data columns (total 5 columns):\n",
            " #   Column   Non-Null Count   Dtype  \n",
            "---  ------   --------------   -----  \n",
            " 0   id       100000 non-null  object \n",
            " 1   f0       100000 non-null  float64\n",
            " 2   f1       100000 non-null  float64\n",
            " 3   f2       100000 non-null  float64\n",
            " 4   product  100000 non-null  float64\n",
            "dtypes: float64(4), object(1)\n",
            "memory usage: 3.8+ MB\n",
            "-------------------------------------------------------\n",
            "\n",
            "2 region:\n"
          ]
        },
        {
          "output_type": "display_data",
          "data": {
            "text/plain": [
              "      id         f0         f1        f2     product\n",
              "0  kBEdx -15.001348  -8.276000 -0.005876    3.179103\n",
              "1  62mP7  14.272088  -3.475083  0.999183   26.953261\n",
              "2  vyE1P   6.263187  -5.948386  5.001160  134.766305\n",
              "3  KcrkZ -13.081196 -11.506057  4.999415  137.945408\n",
              "4  AHL4O  12.702195  -8.147433  5.004363  134.766305"
            ],
            "text/html": [
              "\n",
              "  <div id=\"df-aabc0160-ccf9-45f9-8ef5-4b3bfdee6067\">\n",
              "    <div class=\"colab-df-container\">\n",
              "      <div>\n",
              "<style scoped>\n",
              "    .dataframe tbody tr th:only-of-type {\n",
              "        vertical-align: middle;\n",
              "    }\n",
              "\n",
              "    .dataframe tbody tr th {\n",
              "        vertical-align: top;\n",
              "    }\n",
              "\n",
              "    .dataframe thead th {\n",
              "        text-align: right;\n",
              "    }\n",
              "</style>\n",
              "<table border=\"1\" class=\"dataframe\">\n",
              "  <thead>\n",
              "    <tr style=\"text-align: right;\">\n",
              "      <th></th>\n",
              "      <th>id</th>\n",
              "      <th>f0</th>\n",
              "      <th>f1</th>\n",
              "      <th>f2</th>\n",
              "      <th>product</th>\n",
              "    </tr>\n",
              "  </thead>\n",
              "  <tbody>\n",
              "    <tr>\n",
              "      <th>0</th>\n",
              "      <td>kBEdx</td>\n",
              "      <td>-15.001348</td>\n",
              "      <td>-8.276000</td>\n",
              "      <td>-0.005876</td>\n",
              "      <td>3.179103</td>\n",
              "    </tr>\n",
              "    <tr>\n",
              "      <th>1</th>\n",
              "      <td>62mP7</td>\n",
              "      <td>14.272088</td>\n",
              "      <td>-3.475083</td>\n",
              "      <td>0.999183</td>\n",
              "      <td>26.953261</td>\n",
              "    </tr>\n",
              "    <tr>\n",
              "      <th>2</th>\n",
              "      <td>vyE1P</td>\n",
              "      <td>6.263187</td>\n",
              "      <td>-5.948386</td>\n",
              "      <td>5.001160</td>\n",
              "      <td>134.766305</td>\n",
              "    </tr>\n",
              "    <tr>\n",
              "      <th>3</th>\n",
              "      <td>KcrkZ</td>\n",
              "      <td>-13.081196</td>\n",
              "      <td>-11.506057</td>\n",
              "      <td>4.999415</td>\n",
              "      <td>137.945408</td>\n",
              "    </tr>\n",
              "    <tr>\n",
              "      <th>4</th>\n",
              "      <td>AHL4O</td>\n",
              "      <td>12.702195</td>\n",
              "      <td>-8.147433</td>\n",
              "      <td>5.004363</td>\n",
              "      <td>134.766305</td>\n",
              "    </tr>\n",
              "  </tbody>\n",
              "</table>\n",
              "</div>\n",
              "      <button class=\"colab-df-convert\" onclick=\"convertToInteractive('df-aabc0160-ccf9-45f9-8ef5-4b3bfdee6067')\"\n",
              "              title=\"Convert this dataframe to an interactive table.\"\n",
              "              style=\"display:none;\">\n",
              "        \n",
              "  <svg xmlns=\"http://www.w3.org/2000/svg\" height=\"24px\"viewBox=\"0 0 24 24\"\n",
              "       width=\"24px\">\n",
              "    <path d=\"M0 0h24v24H0V0z\" fill=\"none\"/>\n",
              "    <path d=\"M18.56 5.44l.94 2.06.94-2.06 2.06-.94-2.06-.94-.94-2.06-.94 2.06-2.06.94zm-11 1L8.5 8.5l.94-2.06 2.06-.94-2.06-.94L8.5 2.5l-.94 2.06-2.06.94zm10 10l.94 2.06.94-2.06 2.06-.94-2.06-.94-.94-2.06-.94 2.06-2.06.94z\"/><path d=\"M17.41 7.96l-1.37-1.37c-.4-.4-.92-.59-1.43-.59-.52 0-1.04.2-1.43.59L10.3 9.45l-7.72 7.72c-.78.78-.78 2.05 0 2.83L4 21.41c.39.39.9.59 1.41.59.51 0 1.02-.2 1.41-.59l7.78-7.78 2.81-2.81c.8-.78.8-2.07 0-2.86zM5.41 20L4 18.59l7.72-7.72 1.47 1.35L5.41 20z\"/>\n",
              "  </svg>\n",
              "      </button>\n",
              "      \n",
              "  <style>\n",
              "    .colab-df-container {\n",
              "      display:flex;\n",
              "      flex-wrap:wrap;\n",
              "      gap: 12px;\n",
              "    }\n",
              "\n",
              "    .colab-df-convert {\n",
              "      background-color: #E8F0FE;\n",
              "      border: none;\n",
              "      border-radius: 50%;\n",
              "      cursor: pointer;\n",
              "      display: none;\n",
              "      fill: #1967D2;\n",
              "      height: 32px;\n",
              "      padding: 0 0 0 0;\n",
              "      width: 32px;\n",
              "    }\n",
              "\n",
              "    .colab-df-convert:hover {\n",
              "      background-color: #E2EBFA;\n",
              "      box-shadow: 0px 1px 2px rgba(60, 64, 67, 0.3), 0px 1px 3px 1px rgba(60, 64, 67, 0.15);\n",
              "      fill: #174EA6;\n",
              "    }\n",
              "\n",
              "    [theme=dark] .colab-df-convert {\n",
              "      background-color: #3B4455;\n",
              "      fill: #D2E3FC;\n",
              "    }\n",
              "\n",
              "    [theme=dark] .colab-df-convert:hover {\n",
              "      background-color: #434B5C;\n",
              "      box-shadow: 0px 1px 3px 1px rgba(0, 0, 0, 0.15);\n",
              "      filter: drop-shadow(0px 1px 2px rgba(0, 0, 0, 0.3));\n",
              "      fill: #FFFFFF;\n",
              "    }\n",
              "  </style>\n",
              "\n",
              "      <script>\n",
              "        const buttonEl =\n",
              "          document.querySelector('#df-aabc0160-ccf9-45f9-8ef5-4b3bfdee6067 button.colab-df-convert');\n",
              "        buttonEl.style.display =\n",
              "          google.colab.kernel.accessAllowed ? 'block' : 'none';\n",
              "\n",
              "        async function convertToInteractive(key) {\n",
              "          const element = document.querySelector('#df-aabc0160-ccf9-45f9-8ef5-4b3bfdee6067');\n",
              "          const dataTable =\n",
              "            await google.colab.kernel.invokeFunction('convertToInteractive',\n",
              "                                                     [key], {});\n",
              "          if (!dataTable) return;\n",
              "\n",
              "          const docLinkHtml = 'Like what you see? Visit the ' +\n",
              "            '<a target=\"_blank\" href=https://colab.research.google.com/notebooks/data_table.ipynb>data table notebook</a>'\n",
              "            + ' to learn more about interactive tables.';\n",
              "          element.innerHTML = '';\n",
              "          dataTable['output_type'] = 'display_data';\n",
              "          await google.colab.output.renderOutput(dataTable, element);\n",
              "          const docLink = document.createElement('div');\n",
              "          docLink.innerHTML = docLinkHtml;\n",
              "          element.appendChild(docLink);\n",
              "        }\n",
              "      </script>\n",
              "    </div>\n",
              "  </div>\n",
              "  "
            ]
          },
          "metadata": {}
        },
        {
          "output_type": "stream",
          "name": "stdout",
          "text": [
            "\n",
            "\n",
            "<class 'pandas.core.frame.DataFrame'>\n",
            "RangeIndex: 100000 entries, 0 to 99999\n",
            "Data columns (total 5 columns):\n",
            " #   Column   Non-Null Count   Dtype  \n",
            "---  ------   --------------   -----  \n",
            " 0   id       100000 non-null  object \n",
            " 1   f0       100000 non-null  float64\n",
            " 2   f1       100000 non-null  float64\n",
            " 3   f2       100000 non-null  float64\n",
            " 4   product  100000 non-null  float64\n",
            "dtypes: float64(4), object(1)\n",
            "memory usage: 3.8+ MB\n",
            "-------------------------------------------------------\n",
            "\n",
            "3 region:\n"
          ]
        },
        {
          "output_type": "display_data",
          "data": {
            "text/plain": [
              "      id        f0        f1        f2     product\n",
              "0  fwXo0 -1.146987  0.963328 -0.828965   27.758673\n",
              "1  WJtFt  0.262778  0.269839 -2.530187   56.069697\n",
              "2  ovLUW  0.194587  0.289035 -5.586433   62.871910\n",
              "3  q6cA6  2.236060 -0.553760  0.930038  114.572842\n",
              "4  WPMUX -0.515993  1.716266  5.899011  149.600746"
            ],
            "text/html": [
              "\n",
              "  <div id=\"df-469e6509-7566-4362-aab7-068398588232\">\n",
              "    <div class=\"colab-df-container\">\n",
              "      <div>\n",
              "<style scoped>\n",
              "    .dataframe tbody tr th:only-of-type {\n",
              "        vertical-align: middle;\n",
              "    }\n",
              "\n",
              "    .dataframe tbody tr th {\n",
              "        vertical-align: top;\n",
              "    }\n",
              "\n",
              "    .dataframe thead th {\n",
              "        text-align: right;\n",
              "    }\n",
              "</style>\n",
              "<table border=\"1\" class=\"dataframe\">\n",
              "  <thead>\n",
              "    <tr style=\"text-align: right;\">\n",
              "      <th></th>\n",
              "      <th>id</th>\n",
              "      <th>f0</th>\n",
              "      <th>f1</th>\n",
              "      <th>f2</th>\n",
              "      <th>product</th>\n",
              "    </tr>\n",
              "  </thead>\n",
              "  <tbody>\n",
              "    <tr>\n",
              "      <th>0</th>\n",
              "      <td>fwXo0</td>\n",
              "      <td>-1.146987</td>\n",
              "      <td>0.963328</td>\n",
              "      <td>-0.828965</td>\n",
              "      <td>27.758673</td>\n",
              "    </tr>\n",
              "    <tr>\n",
              "      <th>1</th>\n",
              "      <td>WJtFt</td>\n",
              "      <td>0.262778</td>\n",
              "      <td>0.269839</td>\n",
              "      <td>-2.530187</td>\n",
              "      <td>56.069697</td>\n",
              "    </tr>\n",
              "    <tr>\n",
              "      <th>2</th>\n",
              "      <td>ovLUW</td>\n",
              "      <td>0.194587</td>\n",
              "      <td>0.289035</td>\n",
              "      <td>-5.586433</td>\n",
              "      <td>62.871910</td>\n",
              "    </tr>\n",
              "    <tr>\n",
              "      <th>3</th>\n",
              "      <td>q6cA6</td>\n",
              "      <td>2.236060</td>\n",
              "      <td>-0.553760</td>\n",
              "      <td>0.930038</td>\n",
              "      <td>114.572842</td>\n",
              "    </tr>\n",
              "    <tr>\n",
              "      <th>4</th>\n",
              "      <td>WPMUX</td>\n",
              "      <td>-0.515993</td>\n",
              "      <td>1.716266</td>\n",
              "      <td>5.899011</td>\n",
              "      <td>149.600746</td>\n",
              "    </tr>\n",
              "  </tbody>\n",
              "</table>\n",
              "</div>\n",
              "      <button class=\"colab-df-convert\" onclick=\"convertToInteractive('df-469e6509-7566-4362-aab7-068398588232')\"\n",
              "              title=\"Convert this dataframe to an interactive table.\"\n",
              "              style=\"display:none;\">\n",
              "        \n",
              "  <svg xmlns=\"http://www.w3.org/2000/svg\" height=\"24px\"viewBox=\"0 0 24 24\"\n",
              "       width=\"24px\">\n",
              "    <path d=\"M0 0h24v24H0V0z\" fill=\"none\"/>\n",
              "    <path d=\"M18.56 5.44l.94 2.06.94-2.06 2.06-.94-2.06-.94-.94-2.06-.94 2.06-2.06.94zm-11 1L8.5 8.5l.94-2.06 2.06-.94-2.06-.94L8.5 2.5l-.94 2.06-2.06.94zm10 10l.94 2.06.94-2.06 2.06-.94-2.06-.94-.94-2.06-.94 2.06-2.06.94z\"/><path d=\"M17.41 7.96l-1.37-1.37c-.4-.4-.92-.59-1.43-.59-.52 0-1.04.2-1.43.59L10.3 9.45l-7.72 7.72c-.78.78-.78 2.05 0 2.83L4 21.41c.39.39.9.59 1.41.59.51 0 1.02-.2 1.41-.59l7.78-7.78 2.81-2.81c.8-.78.8-2.07 0-2.86zM5.41 20L4 18.59l7.72-7.72 1.47 1.35L5.41 20z\"/>\n",
              "  </svg>\n",
              "      </button>\n",
              "      \n",
              "  <style>\n",
              "    .colab-df-container {\n",
              "      display:flex;\n",
              "      flex-wrap:wrap;\n",
              "      gap: 12px;\n",
              "    }\n",
              "\n",
              "    .colab-df-convert {\n",
              "      background-color: #E8F0FE;\n",
              "      border: none;\n",
              "      border-radius: 50%;\n",
              "      cursor: pointer;\n",
              "      display: none;\n",
              "      fill: #1967D2;\n",
              "      height: 32px;\n",
              "      padding: 0 0 0 0;\n",
              "      width: 32px;\n",
              "    }\n",
              "\n",
              "    .colab-df-convert:hover {\n",
              "      background-color: #E2EBFA;\n",
              "      box-shadow: 0px 1px 2px rgba(60, 64, 67, 0.3), 0px 1px 3px 1px rgba(60, 64, 67, 0.15);\n",
              "      fill: #174EA6;\n",
              "    }\n",
              "\n",
              "    [theme=dark] .colab-df-convert {\n",
              "      background-color: #3B4455;\n",
              "      fill: #D2E3FC;\n",
              "    }\n",
              "\n",
              "    [theme=dark] .colab-df-convert:hover {\n",
              "      background-color: #434B5C;\n",
              "      box-shadow: 0px 1px 3px 1px rgba(0, 0, 0, 0.15);\n",
              "      filter: drop-shadow(0px 1px 2px rgba(0, 0, 0, 0.3));\n",
              "      fill: #FFFFFF;\n",
              "    }\n",
              "  </style>\n",
              "\n",
              "      <script>\n",
              "        const buttonEl =\n",
              "          document.querySelector('#df-469e6509-7566-4362-aab7-068398588232 button.colab-df-convert');\n",
              "        buttonEl.style.display =\n",
              "          google.colab.kernel.accessAllowed ? 'block' : 'none';\n",
              "\n",
              "        async function convertToInteractive(key) {\n",
              "          const element = document.querySelector('#df-469e6509-7566-4362-aab7-068398588232');\n",
              "          const dataTable =\n",
              "            await google.colab.kernel.invokeFunction('convertToInteractive',\n",
              "                                                     [key], {});\n",
              "          if (!dataTable) return;\n",
              "\n",
              "          const docLinkHtml = 'Like what you see? Visit the ' +\n",
              "            '<a target=\"_blank\" href=https://colab.research.google.com/notebooks/data_table.ipynb>data table notebook</a>'\n",
              "            + ' to learn more about interactive tables.';\n",
              "          element.innerHTML = '';\n",
              "          dataTable['output_type'] = 'display_data';\n",
              "          await google.colab.output.renderOutput(dataTable, element);\n",
              "          const docLink = document.createElement('div');\n",
              "          docLink.innerHTML = docLinkHtml;\n",
              "          element.appendChild(docLink);\n",
              "        }\n",
              "      </script>\n",
              "    </div>\n",
              "  </div>\n",
              "  "
            ]
          },
          "metadata": {}
        },
        {
          "output_type": "stream",
          "name": "stdout",
          "text": [
            "\n",
            "\n",
            "<class 'pandas.core.frame.DataFrame'>\n",
            "RangeIndex: 100000 entries, 0 to 99999\n",
            "Data columns (total 5 columns):\n",
            " #   Column   Non-Null Count   Dtype  \n",
            "---  ------   --------------   -----  \n",
            " 0   id       100000 non-null  object \n",
            " 1   f0       100000 non-null  float64\n",
            " 2   f1       100000 non-null  float64\n",
            " 3   f2       100000 non-null  float64\n",
            " 4   product  100000 non-null  float64\n",
            "dtypes: float64(4), object(1)\n",
            "memory usage: 3.8+ MB\n",
            "-------------------------------------------------------\n"
          ]
        }
      ]
    },
    {
      "cell_type": "code",
      "source": [
        "for region in regions:\n",
        "  print(region.isnull().values.any())"
      ],
      "metadata": {
        "colab": {
          "base_uri": "https://localhost:8080/"
        },
        "id": "KIq95eMEIjTL",
        "outputId": "febb729e-68f1-4e19-bddd-fb3f9a006866"
      },
      "execution_count": 6,
      "outputs": [
        {
          "output_type": "stream",
          "name": "stdout",
          "text": [
            "False\n",
            "False\n",
            "False\n"
          ]
        }
      ]
    },
    {
      "cell_type": "markdown",
      "source": [
        "Пропусков нет."
      ],
      "metadata": {
        "id": "STUGZCP3OyS5"
      }
    },
    {
      "cell_type": "code",
      "source": [
        "for region in regions:\n",
        "  print(region.duplicated().values.any())"
      ],
      "metadata": {
        "colab": {
          "base_uri": "https://localhost:8080/"
        },
        "id": "KYnRwsKWIy9z",
        "outputId": "39eb370d-9c1d-4c6d-da28-c2bf4253d004"
      },
      "execution_count": 7,
      "outputs": [
        {
          "output_type": "stream",
          "name": "stdout",
          "text": [
            "False\n",
            "False\n",
            "False\n"
          ]
        }
      ]
    },
    {
      "cell_type": "markdown",
      "source": [
        "Дубликатов тоже нет."
      ],
      "metadata": {
        "id": "OFJ4PFmoPGJX"
      }
    },
    {
      "cell_type": "markdown",
      "source": [
        "# **EDA**"
      ],
      "metadata": {
        "id": "V6ZvcoUCRyeY"
      }
    },
    {
      "cell_type": "code",
      "source": [
        "sns.histplot(first_region, x='product', bins=10)\n",
        "plt.title('1 region profit distribution')"
      ],
      "metadata": {
        "colab": {
          "base_uri": "https://localhost:8080/",
          "height": 318
        },
        "id": "tCs1XbY3R02b",
        "outputId": "53e11e27-e5b1-49ee-c755-dffdfd3bc340"
      },
      "execution_count": 8,
      "outputs": [
        {
          "output_type": "execute_result",
          "data": {
            "text/plain": [
              "Text(0.5, 1.0, '1 region profit distribution')"
            ]
          },
          "metadata": {},
          "execution_count": 8
        },
        {
          "output_type": "display_data",
          "data": {
            "text/plain": [
              "<Figure size 432x288 with 1 Axes>"
            ],
            "image/png": "[encoded data removed]"
          },
          "metadata": {}
        }
      ]
    },
    {
      "cell_type": "code",
      "source": [
        "sns.histplot(second_region, x='product', bins=10)\n",
        "plt.title('2 region profit distribution')"
      ],
      "metadata": {
        "colab": {
          "base_uri": "https://localhost:8080/",
          "height": 318
        },
        "id": "RM_TAAQoSCK0",
        "outputId": "4d444411-b283-4e06-c5d1-ae089a199a51"
      },
      "execution_count": 9,
      "outputs": [
        {
          "output_type": "execute_result",
          "data": {
            "text/plain": [
              "Text(0.5, 1.0, '2 region profit distribution')"
            ]
          },
          "metadata": {},
          "execution_count": 9
        },
        {
          "output_type": "display_data",
          "data": {
            "text/plain": [
              "<Figure size 432x288 with 1 Axes>"
            ],
            "image/png": "[encoded data removed]"
          },
          "metadata": {}
        }
      ]
    },
    {
      "cell_type": "code",
      "source": [
        "sns.histplot(third_region, x='product', bins=10)\n",
        "plt.title('3 region profit distribution')"
      ],
      "metadata": {
        "colab": {
          "base_uri": "https://localhost:8080/",
          "height": 318
        },
        "id": "jDaRImPCSbyB",
        "outputId": "0a9488ac-eeef-47ed-c4ec-a34da5f8611b"
      },
      "execution_count": 10,
      "outputs": [
        {
          "output_type": "execute_result",
          "data": {
            "text/plain": [
              "Text(0.5, 1.0, '3 region profit distribution')"
            ]
          },
          "metadata": {},
          "execution_count": 10
        },
        {
          "output_type": "display_data",
          "data": {
            "text/plain": [
              "<Figure size 432x288 with 1 Axes>"
            ],
            "image/png": "[encoded data removed]"
          },
          "metadata": {}
        }
      ]
    },
    {
      "cell_type": "markdown",
      "source": [
        "У первого и третьего региона объем запасов в скважинах распределен нормально, в отличии от второго региона."
      ],
      "metadata": {
        "id": "I8s3uRTtXz0B"
      }
    },
    {
      "cell_type": "markdown",
      "source": [
        "Теперь посмотрим на корреляции."
      ],
      "metadata": {
        "id": "NFt5Rh6WZth_"
      }
    },
    {
      "cell_type": "code",
      "source": [
        "sns.heatmap(first_region.corr(), annot=True, fmt=\".1f\")"
      ],
      "metadata": {
        "colab": {
          "base_uri": "https://localhost:8080/",
          "height": 289
        },
        "id": "GQjMFpr7YNPX",
        "outputId": "739e74e9-7e50-4740-ebe2-682b68cfb7c6"
      },
      "execution_count": 11,
      "outputs": [
        {
          "output_type": "execute_result",
          "data": {
            "text/plain": [
              "<matplotlib.axes._subplots.AxesSubplot at 0x7f2da9c02250>"
            ]
          },
          "metadata": {},
          "execution_count": 11
        },
        {
          "output_type": "display_data",
          "data": {
            "text/plain": [
              "<Figure size 432x288 with 2 Axes>"
            ],
            "image/png": "[encoded data removed]"
          },
          "metadata": {}
        }
      ]
    },
    {
      "cell_type": "code",
      "source": [
        "sns.heatmap(second_region.corr(), annot=True, fmt=\".1f\")"
      ],
      "metadata": {
        "colab": {
          "base_uri": "https://localhost:8080/",
          "height": 289
        },
        "id": "0Z_GuO8TZCF_",
        "outputId": "6e13f8e7-c0ed-4fa3-cae0-ea8abe122599"
      },
      "execution_count": 12,
      "outputs": [
        {
          "output_type": "execute_result",
          "data": {
            "text/plain": [
              "<matplotlib.axes._subplots.AxesSubplot at 0x7f2da724c690>"
            ]
          },
          "metadata": {},
          "execution_count": 12
        },
        {
          "output_type": "display_data",
          "data": {
            "text/plain": [
              "<Figure size 432x288 with 2 Axes>"
            ],
            "image/png": "[encoded data removed]"
          },
          "metadata": {}
        }
      ]
    },
    {
      "cell_type": "code",
      "source": [
        "sns.heatmap(third_region.corr(), annot=True, fmt=\".1f\")"
      ],
      "metadata": {
        "colab": {
          "base_uri": "https://localhost:8080/",
          "height": 289
        },
        "id": "RuXgIRtzZRYc",
        "outputId": "70a59f20-470d-4921-bcbf-ace7a98f04b4"
      },
      "execution_count": 13,
      "outputs": [
        {
          "output_type": "execute_result",
          "data": {
            "text/plain": [
              "<matplotlib.axes._subplots.AxesSubplot at 0x7f2da71a5a10>"
            ]
          },
          "metadata": {},
          "execution_count": 13
        },
        {
          "output_type": "display_data",
          "data": {
            "text/plain": [
              "<Figure size 432x288 with 2 Axes>"
            ],
            "image/png": "[encoded data removed]"
          },
          "metadata": {}
        }
      ]
    },
    {
      "cell_type": "markdown",
      "source": [
        "Как мы видим, у второго регоина 100% корреляция между фичей f2 и таргетом. "
      ],
      "metadata": {
        "id": "1HhS5_IVZ0gt"
      }
    },
    {
      "cell_type": "markdown",
      "source": [
        "# **Modeling**"
      ],
      "metadata": {
        "id": "w3ZuaOUSaGdv"
      }
    },
    {
      "cell_type": "markdown",
      "source": [
        "Обучим модели для трех регионов."
      ],
      "metadata": {
        "id": "UXGHctd1ceKh"
      }
    },
    {
      "cell_type": "code",
      "source": [
        "regions_data = [] # дальше нам понадобятся некоторые данные, поэтому сохраним их в этом списке\n",
        "for index, region in enumerate(regions):\n",
        "    \n",
        "    x = region.drop(['id','product'], axis=1)\n",
        "    y = region['product']\n",
        "    \n",
        "    x_train, x_valid, y_train, y_valid = train_test_split(x, y, test_size = 0.8, random_state=67)\n",
        "    \n",
        "    model = LinearRegression()\n",
        "    model.fit(x_train, y_train)\n",
        "    predicted_values = model.predict(x_valid)\n",
        "    \n",
        "    print(f'{str(index+1)} region: \\n')\n",
        "    print('mean:', predicted_values.mean())\n",
        "    print('RMSE:', mean_squared_error(y_valid, predicted_values)  ** 0.5, '\\n')\n",
        "    print('-'*30)\n",
        "    regions_data.append([x_valid, model, y_valid]) # добавляем нужные данные в виде списка"
      ],
      "metadata": {
        "colab": {
          "base_uri": "https://localhost:8080/"
        },
        "id": "IQ_kwbGcaIZV",
        "outputId": "e296b34b-f389-46bd-b8e4-8704c412388e"
      },
      "execution_count": 14,
      "outputs": [
        {
          "output_type": "stream",
          "name": "stdout",
          "text": [
            "1 region: \n",
            "\n",
            "mean: 92.55601015224029\n",
            "RMSE: 37.70021264160988 \n",
            "\n",
            "------------------------------\n",
            "2 region: \n",
            "\n",
            "mean: 68.89268640812546\n",
            "RMSE: 0.8899676737146945 \n",
            "\n",
            "------------------------------\n",
            "3 region: \n",
            "\n",
            "mean: 95.06208573847572\n",
            "RMSE: 40.03392272541563 \n",
            "\n",
            "------------------------------\n"
          ]
        }
      ]
    },
    {
      "cell_type": "markdown",
      "source": [
        "Как мы видим, лучшее среднее у третьего региона, а минимальный RMSE у второго региона."
      ],
      "metadata": {
        "id": "G7xTks5Yg0Zi"
      }
    },
    {
      "cell_type": "markdown",
      "source": [
        "Возьмем случайные 500 точек из каждого региона, выберем из них 200 лучших и посчитаем общий обьем сырья с этих 200 точек."
      ],
      "metadata": {
        "id": "vq7EXGkShX2J"
      }
    },
    {
      "cell_type": "markdown",
      "source": [
        "Для удобства данные соеденены в датафрейм. Для каждого региона - он свой."
      ],
      "metadata": {
        "id": "uqHaOSSalHnp"
      }
    },
    {
      "cell_type": "code",
      "source": [
        "SAMPLE_SIZE = 500"
      ],
      "metadata": {
        "id": "y-jCHXAUoTzk"
      },
      "execution_count": 15,
      "outputs": []
    },
    {
      "cell_type": "code",
      "source": [
        "region_subsamples = []\n",
        "for index, region in enumerate(regions_data):\n",
        "    \n",
        "    region_subsample = region[0].sample(frac = SAMPLE_SIZE / len(region[0]), replace=True, random_state=67)\n",
        "    predicted_subsample = region[1].predict(region_subsample)\n",
        "    \n",
        "    real_product = region[-1][region_subsample.index]\n",
        "    predicted_series = pd.Series(predicted_subsample, name ='pred_product', index=region_subsample.index)\n",
        "    region_subsample  = pd.concat([region_subsample, real_product, predicted_series], axis=1)\n",
        "    print(f'\\n{str(index+1)} region:')\n",
        "    display(region_subsample)\n",
        "    print('-'*64)\n",
        "    \n",
        "    region_subsamples.append(region_subsample)"
      ],
      "metadata": {
        "colab": {
          "base_uri": "https://localhost:8080/",
          "height": 1000
        },
        "id": "sURKP109lOFb",
        "outputId": "92f07aae-c462-4420-a270-ed7cb1b95ed2"
      },
      "execution_count": 16,
      "outputs": [
        {
          "output_type": "stream",
          "name": "stdout",
          "text": [
            "\n",
            "1 region:\n"
          ]
        },
        {
          "output_type": "display_data",
          "data": {
            "text/plain": [
              "             f0        f1        f2     product  pred_product\n",
              "67192  1.019115 -0.507577  5.025596  169.442408    121.432217\n",
              "61959 -0.656248  0.585480 -0.153285   60.358633     66.265265\n",
              "84089  0.546188  0.803550  5.204828   12.351684    102.763536\n",
              "68779  0.857060  0.600099  1.615587   73.682868     83.246127\n",
              "72541 -0.701994  0.465685  2.474675  128.804951     84.937476\n",
              "...         ...       ...       ...         ...           ...\n",
              "65980  0.233341  0.944546  1.402949   27.609759     74.790401\n",
              "80807  0.848047  0.588852  6.505423  121.951635    115.351922\n",
              "47131  0.773142  0.581739  3.722922  154.443702     96.972102\n",
              "3416   1.805397 -0.133326  1.780688   62.165186     97.960806\n",
              "79614  0.992209  0.140815  6.724007  160.721978    123.497023\n",
              "\n",
              "[500 rows x 5 columns]"
            ],
            "text/html": [
              "\n",
              "  <div id=\"df-cfa404db-0896-4f26-b7be-c9ede3af7951\">\n",
              "    <div class=\"colab-df-container\">\n",
              "      <div>\n",
              "<style scoped>\n",
              "    .dataframe tbody tr th:only-of-type {\n",
              "        vertical-align: middle;\n",
              "    }\n",
              "\n",
              "    .dataframe tbody tr th {\n",
              "        vertical-align: top;\n",
              "    }\n",
              "\n",
              "    .dataframe thead th {\n",
              "        text-align: right;\n",
              "    }\n",
              "</style>\n",
              "<table border=\"1\" class=\"dataframe\">\n",
              "  <thead>\n",
              "    <tr style=\"text-align: right;\">\n",
              "      <th></th>\n",
              "      <th>f0</th>\n",
              "      <th>f1</th>\n",
              "      <th>f2</th>\n",
              "      <th>product</th>\n",
              "      <th>pred_product</th>\n",
              "    </tr>\n",
              "  </thead>\n",
              "  <tbody>\n",
              "    <tr>\n",
              "      <th>67192</th>\n",
              "      <td>1.019115</td>\n",
              "      <td>-0.507577</td>\n",
              "      <td>5.025596</td>\n",
              "      <td>169.442408</td>\n",
              "      <td>121.432217</td>\n",
              "    </tr>\n",
              "    <tr>\n",
              "      <th>61959</th>\n",
              "      <td>-0.656248</td>\n",
              "      <td>0.585480</td>\n",
              "      <td>-0.153285</td>\n",
              "      <td>60.358633</td>\n",
              "      <td>66.265265</td>\n",
              "    </tr>\n",
              "    <tr>\n",
              "      <th>84089</th>\n",
              "      <td>0.546188</td>\n",
              "      <td>0.803550</td>\n",
              "      <td>5.204828</td>\n",
              "      <td>12.351684</td>\n",
              "      <td>102.763536</td>\n",
              "    </tr>\n",
              "    <tr>\n",
              "      <th>68779</th>\n",
              "      <td>0.857060</td>\n",
              "      <td>0.600099</td>\n",
              "      <td>1.615587</td>\n",
              "      <td>73.682868</td>\n",
              "      <td>83.246127</td>\n",
              "    </tr>\n",
              "    <tr>\n",
              "      <th>72541</th>\n",
              "      <td>-0.701994</td>\n",
              "      <td>0.465685</td>\n",
              "      <td>2.474675</td>\n",
              "      <td>128.804951</td>\n",
              "      <td>84.937476</td>\n",
              "    </tr>\n",
              "    <tr>\n",
              "      <th>...</th>\n",
              "      <td>...</td>\n",
              "      <td>...</td>\n",
              "      <td>...</td>\n",
              "      <td>...</td>\n",
              "      <td>...</td>\n",
              "    </tr>\n",
              "    <tr>\n",
              "      <th>65980</th>\n",
              "      <td>0.233341</td>\n",
              "      <td>0.944546</td>\n",
              "      <td>1.402949</td>\n",
              "      <td>27.609759</td>\n",
              "      <td>74.790401</td>\n",
              "    </tr>\n",
              "    <tr>\n",
              "      <th>80807</th>\n",
              "      <td>0.848047</td>\n",
              "      <td>0.588852</td>\n",
              "      <td>6.505423</td>\n",
              "      <td>121.951635</td>\n",
              "      <td>115.351922</td>\n",
              "    </tr>\n",
              "    <tr>\n",
              "      <th>47131</th>\n",
              "      <td>0.773142</td>\n",
              "      <td>0.581739</td>\n",
              "      <td>3.722922</td>\n",
              "      <td>154.443702</td>\n",
              "      <td>96.972102</td>\n",
              "    </tr>\n",
              "    <tr>\n",
              "      <th>3416</th>\n",
              "      <td>1.805397</td>\n",
              "      <td>-0.133326</td>\n",
              "      <td>1.780688</td>\n",
              "      <td>62.165186</td>\n",
              "      <td>97.960806</td>\n",
              "    </tr>\n",
              "    <tr>\n",
              "      <th>79614</th>\n",
              "      <td>0.992209</td>\n",
              "      <td>0.140815</td>\n",
              "      <td>6.724007</td>\n",
              "      <td>160.721978</td>\n",
              "      <td>123.497023</td>\n",
              "    </tr>\n",
              "  </tbody>\n",
              "</table>\n",
              "<p>500 rows × 5 columns</p>\n",
              "</div>\n",
              "      <button class=\"colab-df-convert\" onclick=\"convertToInteractive('df-cfa404db-0896-4f26-b7be-c9ede3af7951')\"\n",
              "              title=\"Convert this dataframe to an interactive table.\"\n",
              "              style=\"display:none;\">\n",
              "        \n",
              "  <svg xmlns=\"http://www.w3.org/2000/svg\" height=\"24px\"viewBox=\"0 0 24 24\"\n",
              "       width=\"24px\">\n",
              "    <path d=\"M0 0h24v24H0V0z\" fill=\"none\"/>\n",
              "    <path d=\"M18.56 5.44l.94 2.06.94-2.06 2.06-.94-2.06-.94-.94-2.06-.94 2.06-2.06.94zm-11 1L8.5 8.5l.94-2.06 2.06-.94-2.06-.94L8.5 2.5l-.94 2.06-2.06.94zm10 10l.94 2.06.94-2.06 2.06-.94-2.06-.94-.94-2.06-.94 2.06-2.06.94z\"/><path d=\"M17.41 7.96l-1.37-1.37c-.4-.4-.92-.59-1.43-.59-.52 0-1.04.2-1.43.59L10.3 9.45l-7.72 7.72c-.78.78-.78 2.05 0 2.83L4 21.41c.39.39.9.59 1.41.59.51 0 1.02-.2 1.41-.59l7.78-7.78 2.81-2.81c.8-.78.8-2.07 0-2.86zM5.41 20L4 18.59l7.72-7.72 1.47 1.35L5.41 20z\"/>\n",
              "  </svg>\n",
              "      </button>\n",
              "      \n",
              "  <style>\n",
              "    .colab-df-container {\n",
              "      display:flex;\n",
              "      flex-wrap:wrap;\n",
              "      gap: 12px;\n",
              "    }\n",
              "\n",
              "    .colab-df-convert {\n",
              "      background-color: #E8F0FE;\n",
              "      border: none;\n",
              "      border-radius: 50%;\n",
              "      cursor: pointer;\n",
              "      display: none;\n",
              "      fill: #1967D2;\n",
              "      height: 32px;\n",
              "      padding: 0 0 0 0;\n",
              "      width: 32px;\n",
              "    }\n",
              "\n",
              "    .colab-df-convert:hover {\n",
              "      background-color: #E2EBFA;\n",
              "      box-shadow: 0px 1px 2px rgba(60, 64, 67, 0.3), 0px 1px 3px 1px rgba(60, 64, 67, 0.15);\n",
              "      fill: #174EA6;\n",
              "    }\n",
              "\n",
              "    [theme=dark] .colab-df-convert {\n",
              "      background-color: #3B4455;\n",
              "      fill: #D2E3FC;\n",
              "    }\n",
              "\n",
              "    [theme=dark] .colab-df-convert:hover {\n",
              "      background-color: #434B5C;\n",
              "      box-shadow: 0px 1px 3px 1px rgba(0, 0, 0, 0.15);\n",
              "      filter: drop-shadow(0px 1px 2px rgba(0, 0, 0, 0.3));\n",
              "      fill: #FFFFFF;\n",
              "    }\n",
              "  </style>\n",
              "\n",
              "      <script>\n",
              "        const buttonEl =\n",
              "          document.querySelector('#df-cfa404db-0896-4f26-b7be-c9ede3af7951 button.colab-df-convert');\n",
              "        buttonEl.style.display =\n",
              "          google.colab.kernel.accessAllowed ? 'block' : 'none';\n",
              "\n",
              "        async function convertToInteractive(key) {\n",
              "          const element = document.querySelector('#df-cfa404db-0896-4f26-b7be-c9ede3af7951');\n",
              "          const dataTable =\n",
              "            await google.colab.kernel.invokeFunction('convertToInteractive',\n",
              "                                                     [key], {});\n",
              "          if (!dataTable) return;\n",
              "\n",
              "          const docLinkHtml = 'Like what you see? Visit the ' +\n",
              "            '<a target=\"_blank\" href=https://colab.research.google.com/notebooks/data_table.ipynb>data table notebook</a>'\n",
              "            + ' to learn more about interactive tables.';\n",
              "          element.innerHTML = '';\n",
              "          dataTable['output_type'] = 'display_data';\n",
              "          await google.colab.output.renderOutput(dataTable, element);\n",
              "          const docLink = document.createElement('div');\n",
              "          docLink.innerHTML = docLinkHtml;\n",
              "          element.appendChild(docLink);\n",
              "        }\n",
              "      </script>\n",
              "    </div>\n",
              "  </div>\n",
              "  "
            ]
          },
          "metadata": {}
        },
        {
          "output_type": "stream",
          "name": "stdout",
          "text": [
            "----------------------------------------------------------------\n",
            "\n",
            "2 region:\n"
          ]
        },
        {
          "output_type": "display_data",
          "data": {
            "text/plain": [
              "              f0         f1        f2     product  pred_product\n",
              "67192   9.826905   0.980642  5.002194  134.766305    135.030156\n",
              "61959   7.657850  -1.765334  5.005259  134.766305    135.487163\n",
              "84089  -7.605172   1.399072  2.994402   84.038886     83.423921\n",
              "68779  -7.342660 -10.131412  1.991030   57.085625     56.595509\n",
              "72541  12.439597 -10.059009  4.998765  134.766305    134.803636\n",
              "...          ...        ...       ...         ...           ...\n",
              "65980   2.078634  -3.558967  4.999812  137.945408    136.187004\n",
              "80807   4.202479  -6.332872  1.002036   26.953261     28.184019\n",
              "47131  -7.854804 -10.127951  5.004333  137.945408    137.890839\n",
              "3416   15.166146  -6.735876  0.003823    0.000000     -0.299056\n",
              "79614   7.958540  -5.578027  4.003011  107.813044    108.513061\n",
              "\n",
              "[500 rows x 5 columns]"
            ],
            "text/html": [
              "\n",
              "  <div id=\"df-15de43b4-417b-42fb-9d78-58c048126cc7\">\n",
              "    <div class=\"colab-df-container\">\n",
              "      <div>\n",
              "<style scoped>\n",
              "    .dataframe tbody tr th:only-of-type {\n",
              "        vertical-align: middle;\n",
              "    }\n",
              "\n",
              "    .dataframe tbody tr th {\n",
              "        vertical-align: top;\n",
              "    }\n",
              "\n",
              "    .dataframe thead th {\n",
              "        text-align: right;\n",
              "    }\n",
              "</style>\n",
              "<table border=\"1\" class=\"dataframe\">\n",
              "  <thead>\n",
              "    <tr style=\"text-align: right;\">\n",
              "      <th></th>\n",
              "      <th>f0</th>\n",
              "      <th>f1</th>\n",
              "      <th>f2</th>\n",
              "      <th>product</th>\n",
              "      <th>pred_product</th>\n",
              "    </tr>\n",
              "  </thead>\n",
              "  <tbody>\n",
              "    <tr>\n",
              "      <th>67192</th>\n",
              "      <td>9.826905</td>\n",
              "      <td>0.980642</td>\n",
              "      <td>5.002194</td>\n",
              "      <td>134.766305</td>\n",
              "      <td>135.030156</td>\n",
              "    </tr>\n",
              "    <tr>\n",
              "      <th>61959</th>\n",
              "      <td>7.657850</td>\n",
              "      <td>-1.765334</td>\n",
              "      <td>5.005259</td>\n",
              "      <td>134.766305</td>\n",
              "      <td>135.487163</td>\n",
              "    </tr>\n",
              "    <tr>\n",
              "      <th>84089</th>\n",
              "      <td>-7.605172</td>\n",
              "      <td>1.399072</td>\n",
              "      <td>2.994402</td>\n",
              "      <td>84.038886</td>\n",
              "      <td>83.423921</td>\n",
              "    </tr>\n",
              "    <tr>\n",
              "      <th>68779</th>\n",
              "      <td>-7.342660</td>\n",
              "      <td>-10.131412</td>\n",
              "      <td>1.991030</td>\n",
              "      <td>57.085625</td>\n",
              "      <td>56.595509</td>\n",
              "    </tr>\n",
              "    <tr>\n",
              "      <th>72541</th>\n",
              "      <td>12.439597</td>\n",
              "      <td>-10.059009</td>\n",
              "      <td>4.998765</td>\n",
              "      <td>134.766305</td>\n",
              "      <td>134.803636</td>\n",
              "    </tr>\n",
              "    <tr>\n",
              "      <th>...</th>\n",
              "      <td>...</td>\n",
              "      <td>...</td>\n",
              "      <td>...</td>\n",
              "      <td>...</td>\n",
              "      <td>...</td>\n",
              "    </tr>\n",
              "    <tr>\n",
              "      <th>65980</th>\n",
              "      <td>2.078634</td>\n",
              "      <td>-3.558967</td>\n",
              "      <td>4.999812</td>\n",
              "      <td>137.945408</td>\n",
              "      <td>136.187004</td>\n",
              "    </tr>\n",
              "    <tr>\n",
              "      <th>80807</th>\n",
              "      <td>4.202479</td>\n",
              "      <td>-6.332872</td>\n",
              "      <td>1.002036</td>\n",
              "      <td>26.953261</td>\n",
              "      <td>28.184019</td>\n",
              "    </tr>\n",
              "    <tr>\n",
              "      <th>47131</th>\n",
              "      <td>-7.854804</td>\n",
              "      <td>-10.127951</td>\n",
              "      <td>5.004333</td>\n",
              "      <td>137.945408</td>\n",
              "      <td>137.890839</td>\n",
              "    </tr>\n",
              "    <tr>\n",
              "      <th>3416</th>\n",
              "      <td>15.166146</td>\n",
              "      <td>-6.735876</td>\n",
              "      <td>0.003823</td>\n",
              "      <td>0.000000</td>\n",
              "      <td>-0.299056</td>\n",
              "    </tr>\n",
              "    <tr>\n",
              "      <th>79614</th>\n",
              "      <td>7.958540</td>\n",
              "      <td>-5.578027</td>\n",
              "      <td>4.003011</td>\n",
              "      <td>107.813044</td>\n",
              "      <td>108.513061</td>\n",
              "    </tr>\n",
              "  </tbody>\n",
              "</table>\n",
              "<p>500 rows × 5 columns</p>\n",
              "</div>\n",
              "      <button class=\"colab-df-convert\" onclick=\"convertToInteractive('df-15de43b4-417b-42fb-9d78-58c048126cc7')\"\n",
              "              title=\"Convert this dataframe to an interactive table.\"\n",
              "              style=\"display:none;\">\n",
              "        \n",
              "  <svg xmlns=\"http://www.w3.org/2000/svg\" height=\"24px\"viewBox=\"0 0 24 24\"\n",
              "       width=\"24px\">\n",
              "    <path d=\"M0 0h24v24H0V0z\" fill=\"none\"/>\n",
              "    <path d=\"M18.56 5.44l.94 2.06.94-2.06 2.06-.94-2.06-.94-.94-2.06-.94 2.06-2.06.94zm-11 1L8.5 8.5l.94-2.06 2.06-.94-2.06-.94L8.5 2.5l-.94 2.06-2.06.94zm10 10l.94 2.06.94-2.06 2.06-.94-2.06-.94-.94-2.06-.94 2.06-2.06.94z\"/><path d=\"M17.41 7.96l-1.37-1.37c-.4-.4-.92-.59-1.43-.59-.52 0-1.04.2-1.43.59L10.3 9.45l-7.72 7.72c-.78.78-.78 2.05 0 2.83L4 21.41c.39.39.9.59 1.41.59.51 0 1.02-.2 1.41-.59l7.78-7.78 2.81-2.81c.8-.78.8-2.07 0-2.86zM5.41 20L4 18.59l7.72-7.72 1.47 1.35L5.41 20z\"/>\n",
              "  </svg>\n",
              "      </button>\n",
              "      \n",
              "  <style>\n",
              "    .colab-df-container {\n",
              "      display:flex;\n",
              "      flex-wrap:wrap;\n",
              "      gap: 12px;\n",
              "    }\n",
              "\n",
              "    .colab-df-convert {\n",
              "      background-color: #E8F0FE;\n",
              "      border: none;\n",
              "      border-radius: 50%;\n",
              "      cursor: pointer;\n",
              "      display: none;\n",
              "      fill: #1967D2;\n",
              "      height: 32px;\n",
              "      padding: 0 0 0 0;\n",
              "      width: 32px;\n",
              "    }\n",
              "\n",
              "    .colab-df-convert:hover {\n",
              "      background-color: #E2EBFA;\n",
              "      box-shadow: 0px 1px 2px rgba(60, 64, 67, 0.3), 0px 1px 3px 1px rgba(60, 64, 67, 0.15);\n",
              "      fill: #174EA6;\n",
              "    }\n",
              "\n",
              "    [theme=dark] .colab-df-convert {\n",
              "      background-color: #3B4455;\n",
              "      fill: #D2E3FC;\n",
              "    }\n",
              "\n",
              "    [theme=dark] .colab-df-convert:hover {\n",
              "      background-color: #434B5C;\n",
              "      box-shadow: 0px 1px 3px 1px rgba(0, 0, 0, 0.15);\n",
              "      filter: drop-shadow(0px 1px 2px rgba(0, 0, 0, 0.3));\n",
              "      fill: #FFFFFF;\n",
              "    }\n",
              "  </style>\n",
              "\n",
              "      <script>\n",
              "        const buttonEl =\n",
              "          document.querySelector('#df-15de43b4-417b-42fb-9d78-58c048126cc7 button.colab-df-convert');\n",
              "        buttonEl.style.display =\n",
              "          google.colab.kernel.accessAllowed ? 'block' : 'none';\n",
              "\n",
              "        async function convertToInteractive(key) {\n",
              "          const element = document.querySelector('#df-15de43b4-417b-42fb-9d78-58c048126cc7');\n",
              "          const dataTable =\n",
              "            await google.colab.kernel.invokeFunction('convertToInteractive',\n",
              "                                                     [key], {});\n",
              "          if (!dataTable) return;\n",
              "\n",
              "          const docLinkHtml = 'Like what you see? Visit the ' +\n",
              "            '<a target=\"_blank\" href=https://colab.research.google.com/notebooks/data_table.ipynb>data table notebook</a>'\n",
              "            + ' to learn more about interactive tables.';\n",
              "          element.innerHTML = '';\n",
              "          dataTable['output_type'] = 'display_data';\n",
              "          await google.colab.output.renderOutput(dataTable, element);\n",
              "          const docLink = document.createElement('div');\n",
              "          docLink.innerHTML = docLinkHtml;\n",
              "          element.appendChild(docLink);\n",
              "        }\n",
              "      </script>\n",
              "    </div>\n",
              "  </div>\n",
              "  "
            ]
          },
          "metadata": {}
        },
        {
          "output_type": "stream",
          "name": "stdout",
          "text": [
            "----------------------------------------------------------------\n",
            "\n",
            "3 region:\n"
          ]
        },
        {
          "output_type": "display_data",
          "data": {
            "text/plain": [
              "             f0        f1        f2     product  pred_product\n",
              "67192 -0.592034  1.686970  1.484248   78.722634     88.837122\n",
              "61959  2.641177 -3.862177  2.289370   93.374669     94.731314\n",
              "84089  1.297035 -1.805486  1.594002   64.031664     90.261826\n",
              "68779  0.266384  0.359870  5.242708  128.214318    110.735519\n",
              "72541  1.958114 -2.739542  1.926531  149.046862     92.389253\n",
              "...         ...       ...       ...         ...           ...\n",
              "65980 -3.190098  2.269103  1.614601   67.176119     89.385609\n",
              "80807  1.356563  0.387340 -1.376216   54.086098     72.736331\n",
              "47131 -3.745590 -1.667077  0.404013  108.810803     83.245845\n",
              "3416  -0.115081 -0.988584  6.059425   91.792197    115.701109\n",
              "79614  1.292482 -1.692157 -0.611000   52.273361     77.569965\n",
              "\n",
              "[500 rows x 5 columns]"
            ],
            "text/html": [
              "\n",
              "  <div id=\"df-b4db3a38-0b3a-4197-b865-4665837821cb\">\n",
              "    <div class=\"colab-df-container\">\n",
              "      <div>\n",
              "<style scoped>\n",
              "    .dataframe tbody tr th:only-of-type {\n",
              "        vertical-align: middle;\n",
              "    }\n",
              "\n",
              "    .dataframe tbody tr th {\n",
              "        vertical-align: top;\n",
              "    }\n",
              "\n",
              "    .dataframe thead th {\n",
              "        text-align: right;\n",
              "    }\n",
              "</style>\n",
              "<table border=\"1\" class=\"dataframe\">\n",
              "  <thead>\n",
              "    <tr style=\"text-align: right;\">\n",
              "      <th></th>\n",
              "      <th>f0</th>\n",
              "      <th>f1</th>\n",
              "      <th>f2</th>\n",
              "      <th>product</th>\n",
              "      <th>pred_product</th>\n",
              "    </tr>\n",
              "  </thead>\n",
              "  <tbody>\n",
              "    <tr>\n",
              "      <th>67192</th>\n",
              "      <td>-0.592034</td>\n",
              "      <td>1.686970</td>\n",
              "      <td>1.484248</td>\n",
              "      <td>78.722634</td>\n",
              "      <td>88.837122</td>\n",
              "    </tr>\n",
              "    <tr>\n",
              "      <th>61959</th>\n",
              "      <td>2.641177</td>\n",
              "      <td>-3.862177</td>\n",
              "      <td>2.289370</td>\n",
              "      <td>93.374669</td>\n",
              "      <td>94.731314</td>\n",
              "    </tr>\n",
              "    <tr>\n",
              "      <th>84089</th>\n",
              "      <td>1.297035</td>\n",
              "      <td>-1.805486</td>\n",
              "      <td>1.594002</td>\n",
              "      <td>64.031664</td>\n",
              "      <td>90.261826</td>\n",
              "    </tr>\n",
              "    <tr>\n",
              "      <th>68779</th>\n",
              "      <td>0.266384</td>\n",
              "      <td>0.359870</td>\n",
              "      <td>5.242708</td>\n",
              "      <td>128.214318</td>\n",
              "      <td>110.735519</td>\n",
              "    </tr>\n",
              "    <tr>\n",
              "      <th>72541</th>\n",
              "      <td>1.958114</td>\n",
              "      <td>-2.739542</td>\n",
              "      <td>1.926531</td>\n",
              "      <td>149.046862</td>\n",
              "      <td>92.389253</td>\n",
              "    </tr>\n",
              "    <tr>\n",
              "      <th>...</th>\n",
              "      <td>...</td>\n",
              "      <td>...</td>\n",
              "      <td>...</td>\n",
              "      <td>...</td>\n",
              "      <td>...</td>\n",
              "    </tr>\n",
              "    <tr>\n",
              "      <th>65980</th>\n",
              "      <td>-3.190098</td>\n",
              "      <td>2.269103</td>\n",
              "      <td>1.614601</td>\n",
              "      <td>67.176119</td>\n",
              "      <td>89.385609</td>\n",
              "    </tr>\n",
              "    <tr>\n",
              "      <th>80807</th>\n",
              "      <td>1.356563</td>\n",
              "      <td>0.387340</td>\n",
              "      <td>-1.376216</td>\n",
              "      <td>54.086098</td>\n",
              "      <td>72.736331</td>\n",
              "    </tr>\n",
              "    <tr>\n",
              "      <th>47131</th>\n",
              "      <td>-3.745590</td>\n",
              "      <td>-1.667077</td>\n",
              "      <td>0.404013</td>\n",
              "      <td>108.810803</td>\n",
              "      <td>83.245845</td>\n",
              "    </tr>\n",
              "    <tr>\n",
              "      <th>3416</th>\n",
              "      <td>-0.115081</td>\n",
              "      <td>-0.988584</td>\n",
              "      <td>6.059425</td>\n",
              "      <td>91.792197</td>\n",
              "      <td>115.701109</td>\n",
              "    </tr>\n",
              "    <tr>\n",
              "      <th>79614</th>\n",
              "      <td>1.292482</td>\n",
              "      <td>-1.692157</td>\n",
              "      <td>-0.611000</td>\n",
              "      <td>52.273361</td>\n",
              "      <td>77.569965</td>\n",
              "    </tr>\n",
              "  </tbody>\n",
              "</table>\n",
              "<p>500 rows × 5 columns</p>\n",
              "</div>\n",
              "      <button class=\"colab-df-convert\" onclick=\"convertToInteractive('df-b4db3a38-0b3a-4197-b865-4665837821cb')\"\n",
              "              title=\"Convert this dataframe to an interactive table.\"\n",
              "              style=\"display:none;\">\n",
              "        \n",
              "  <svg xmlns=\"http://www.w3.org/2000/svg\" height=\"24px\"viewBox=\"0 0 24 24\"\n",
              "       width=\"24px\">\n",
              "    <path d=\"M0 0h24v24H0V0z\" fill=\"none\"/>\n",
              "    <path d=\"M18.56 5.44l.94 2.06.94-2.06 2.06-.94-2.06-.94-.94-2.06-.94 2.06-2.06.94zm-11 1L8.5 8.5l.94-2.06 2.06-.94-2.06-.94L8.5 2.5l-.94 2.06-2.06.94zm10 10l.94 2.06.94-2.06 2.06-.94-2.06-.94-.94-2.06-.94 2.06-2.06.94z\"/><path d=\"M17.41 7.96l-1.37-1.37c-.4-.4-.92-.59-1.43-.59-.52 0-1.04.2-1.43.59L10.3 9.45l-7.72 7.72c-.78.78-.78 2.05 0 2.83L4 21.41c.39.39.9.59 1.41.59.51 0 1.02-.2 1.41-.59l7.78-7.78 2.81-2.81c.8-.78.8-2.07 0-2.86zM5.41 20L4 18.59l7.72-7.72 1.47 1.35L5.41 20z\"/>\n",
              "  </svg>\n",
              "      </button>\n",
              "      \n",
              "  <style>\n",
              "    .colab-df-container {\n",
              "      display:flex;\n",
              "      flex-wrap:wrap;\n",
              "      gap: 12px;\n",
              "    }\n",
              "\n",
              "    .colab-df-convert {\n",
              "      background-color: #E8F0FE;\n",
              "      border: none;\n",
              "      border-radius: 50%;\n",
              "      cursor: pointer;\n",
              "      display: none;\n",
              "      fill: #1967D2;\n",
              "      height: 32px;\n",
              "      padding: 0 0 0 0;\n",
              "      width: 32px;\n",
              "    }\n",
              "\n",
              "    .colab-df-convert:hover {\n",
              "      background-color: #E2EBFA;\n",
              "      box-shadow: 0px 1px 2px rgba(60, 64, 67, 0.3), 0px 1px 3px 1px rgba(60, 64, 67, 0.15);\n",
              "      fill: #174EA6;\n",
              "    }\n",
              "\n",
              "    [theme=dark] .colab-df-convert {\n",
              "      background-color: #3B4455;\n",
              "      fill: #D2E3FC;\n",
              "    }\n",
              "\n",
              "    [theme=dark] .colab-df-convert:hover {\n",
              "      background-color: #434B5C;\n",
              "      box-shadow: 0px 1px 3px 1px rgba(0, 0, 0, 0.15);\n",
              "      filter: drop-shadow(0px 1px 2px rgba(0, 0, 0, 0.3));\n",
              "      fill: #FFFFFF;\n",
              "    }\n",
              "  </style>\n",
              "\n",
              "      <script>\n",
              "        const buttonEl =\n",
              "          document.querySelector('#df-b4db3a38-0b3a-4197-b865-4665837821cb button.colab-df-convert');\n",
              "        buttonEl.style.display =\n",
              "          google.colab.kernel.accessAllowed ? 'block' : 'none';\n",
              "\n",
              "        async function convertToInteractive(key) {\n",
              "          const element = document.querySelector('#df-b4db3a38-0b3a-4197-b865-4665837821cb');\n",
              "          const dataTable =\n",
              "            await google.colab.kernel.invokeFunction('convertToInteractive',\n",
              "                                                     [key], {});\n",
              "          if (!dataTable) return;\n",
              "\n",
              "          const docLinkHtml = 'Like what you see? Visit the ' +\n",
              "            '<a target=\"_blank\" href=https://colab.research.google.com/notebooks/data_table.ipynb>data table notebook</a>'\n",
              "            + ' to learn more about interactive tables.';\n",
              "          element.innerHTML = '';\n",
              "          dataTable['output_type'] = 'display_data';\n",
              "          await google.colab.output.renderOutput(dataTable, element);\n",
              "          const docLink = document.createElement('div');\n",
              "          docLink.innerHTML = docLinkHtml;\n",
              "          element.appendChild(docLink);\n",
              "        }\n",
              "      </script>\n",
              "    </div>\n",
              "  </div>\n",
              "  "
            ]
          },
          "metadata": {}
        },
        {
          "output_type": "stream",
          "name": "stdout",
          "text": [
            "----------------------------------------------------------------\n"
          ]
        }
      ]
    },
    {
      "cell_type": "markdown",
      "source": [
        "# **Preparation for profit calculation**"
      ],
      "metadata": {
        "id": "6PCsPKI0oflC"
      }
    },
    {
      "cell_type": "code",
      "source": [
        "# constants\n",
        "PROFIT = 450000\n",
        "BUDGET = 10 ** 10\n",
        "BEST_POINTS = 200\n",
        "BOOTSTRAP = 1000"
      ],
      "metadata": {
        "id": "hMWsnNqnorpI"
      },
      "execution_count": 17,
      "outputs": []
    },
    {
      "cell_type": "markdown",
      "source": [
        "Посчитаем сколько в среднем должно быть запасов в одной точке, для безубыточной разработки"
      ],
      "metadata": {
        "id": "28r8aHsCo41r"
      }
    },
    {
      "cell_type": "code",
      "source": [
        "min_barrels = BUDGET / PROFIT / BEST_POINTS\n",
        "min_barrels"
      ],
      "metadata": {
        "colab": {
          "base_uri": "https://localhost:8080/"
        },
        "id": "dltoU7Q4o3YT",
        "outputId": "5040c3da-fd99-4a2f-dbbf-b2a0ae1be079"
      },
      "execution_count": 18,
      "outputs": [
        {
          "output_type": "execute_result",
          "data": {
            "text/plain": [
              "111.11111111111111"
            ]
          },
          "metadata": {},
          "execution_count": 18
        }
      ]
    },
    {
      "cell_type": "markdown",
      "source": [
        "Точка безубыточности найдена. Если сравнить с расчетами ранее — ни один регион не дотягивает."
      ],
      "metadata": {
        "id": "L8d0LHZ1o_0u"
      }
    },
    {
      "cell_type": "markdown",
      "source": [
        "<b>Для того, чтобы разработка была безубыточна, нужно, чтобы в среднем в каждой точке было не меньше 111.1 тысяч бареллей сырья.</b>"
      ],
      "metadata": {
        "id": "JGufZ25apgkU"
      }
    },
    {
      "cell_type": "markdown",
      "source": [
        "# **Calculation of profit and risks**"
      ],
      "metadata": {
        "id": "2ahSJsv7pwLT"
      }
    },
    {
      "cell_type": "markdown",
      "source": [
        "Расчитаем среднее кол-во тысяч баррелей сырья в одной (лучшей) точке в каждом из трех регионов."
      ],
      "metadata": {
        "id": "Jq2nB3PiqUjN"
      }
    },
    {
      "cell_type": "code",
      "source": [
        "for index, region in enumerate(region_subsamples):\n",
        "    top_200 = region.sort_values('pred_product', ascending=False)[:BEST_POINTS]\n",
        "    mean_product = top_200['product'].mean()\n",
        "    print(f'{str(index+1)} region:',mean_product)"
      ],
      "metadata": {
        "colab": {
          "base_uri": "https://localhost:8080/"
        },
        "id": "5bIg_maCpyV9",
        "outputId": "daf8bb75-d31a-4a39-9fcf-87270d02a3d2"
      },
      "execution_count": 19,
      "outputs": [
        {
          "output_type": "stream",
          "name": "stdout",
          "text": [
            "1 region: 116.09644111625481\n",
            "2 region: 119.27301782936397\n",
            "3 region: 115.4853191066106\n"
          ]
        }
      ]
    },
    {
      "cell_type": "markdown",
      "source": [
        "Как мы видим, значения больше 111.1, значит разработка в любом регионе окупится (при условии, что именно эти точки будут выбраны)."
      ],
      "metadata": {
        "id": "FjuTD3iAq0Ip"
      }
    },
    {
      "cell_type": "markdown",
      "source": [
        "Напишем функцию, которая посчитает прибыль с региона, на вход она принимает суммарное кол-во тысяч баррелей с региона и цену одной тысячи баррелей."
      ],
      "metadata": {
        "id": "7D_P00Quq0Qq"
      }
    },
    {
      "cell_type": "code",
      "source": [
        "def profit_counter(product, price):\n",
        "    return product*price"
      ],
      "metadata": {
        "id": "W9ksckh_rD5-"
      },
      "execution_count": 20,
      "outputs": []
    },
    {
      "cell_type": "code",
      "source": [
        "for index, region in enumerate(region_subsamples):\n",
        "    sum_product = region.sort_values('pred_product', ascending=False)[:BEST_POINTS]['product'].sum()\n",
        "    print(f'{str(index+1)} region profit:', profit_counter(sum_product, PROFIT) - BUDGET)"
      ],
      "metadata": {
        "colab": {
          "base_uri": "https://localhost:8080/"
        },
        "id": "Cpl9OTWyrLGI",
        "outputId": "28ec9591-5dfa-4d71-fff2-fb4c2d10d578"
      },
      "execution_count": 21,
      "outputs": [
        {
          "output_type": "stream",
          "name": "stdout",
          "text": [
            "1 region profit: 448679700.4629326\n",
            "2 region profit: 734571604.6427288\n",
            "3 region profit: 393678719.59495544\n"
          ]
        }
      ]
    },
    {
      "cell_type": "markdown",
      "source": [
        "Самая большая чистая прибыль получилась во втором регионе."
      ],
      "metadata": {
        "id": "JQ81E3elrcmy"
      }
    },
    {
      "cell_type": "markdown",
      "source": [
        "# **Bootstrap**"
      ],
      "metadata": {
        "id": "qf3v1lR1ribA"
      }
    },
    {
      "cell_type": "markdown",
      "source": [
        "Теперь сделаем все тоже самое, только не один раз, а тысячу. И посмотрим на распределение прибыли для каждого региона."
      ],
      "metadata": {
        "id": "bSz-uI2Lrs-N"
      }
    },
    {
      "cell_type": "markdown",
      "source": [
        "Создадим списки, в которых будем добавлять прибыль с каждой итерацией."
      ],
      "metadata": {
        "id": "DP6-TOp5rtAc"
      }
    },
    {
      "cell_type": "code",
      "source": [
        "for i in range(len(regions_data)):\n",
        "    regions_data[i].append([]) # добавляем к каждому региону список, в котором будут храниться все прибыли"
      ],
      "metadata": {
        "id": "5CJma-AwrnnU"
      },
      "execution_count": 22,
      "outputs": []
    },
    {
      "cell_type": "code",
      "source": [
        "state = np.random.RandomState(12345)\n",
        "\n",
        "for i in range(BOOTSTRAP):\n",
        "    for region in regions_data:\n",
        "        \n",
        "        region_subsample = region[0].sample(frac = SAMPLE_SIZE / len(region[0]), replace=True, random_state=state) # берем случайне\n",
        "        predicted_subsample = region[1].predict(region_subsample) # делаем прогноз по их фичам                       500 точек\n",
        "        \n",
        "        real_product = region[2][region_subsample.index] # сохраним реальное значение product этих точек\n",
        "        predicted_series = pd.Series(predicted_subsample, name='pred_product', index=region_subsample.index) \n",
        "        region_subsample  = pd.concat([region_subsample, real_product, predicted_series],axis =1) # соеденим все это в df \n",
        "        \n",
        "        top_200 = region_subsample.sort_values('pred_product', ascending=False)[:BEST_POINTS] # возьмем 200 лучших точек\n",
        "        sum_product = top_200['product'].sum() # посчитаем сум. обьем по реальным значениям\n",
        "        \n",
        "        region[-1].append(profit_counter(sum_product, PROFIT) - BUDGET) # добавим в список прибыь\n"
      ],
      "metadata": {
        "id": "O7zNQkoar3n9"
      },
      "execution_count": 23,
      "outputs": []
    },
    {
      "cell_type": "code",
      "source": [
        "region_profits = [] # тут будут все прибыли со всех регионов после бутстрепа\n",
        "for i in range(len(regions_data)):\n",
        "    regions_data[i][-1] = pd.Series(regions_data[i][-1])\n",
        "    region_profits.append(regions_data[i][-1])"
      ],
      "metadata": {
        "id": "jXKD8PL7sH-g"
      },
      "execution_count": 24,
      "outputs": []
    },
    {
      "cell_type": "markdown",
      "source": [
        "И тут же расчитаем риск убытков, для этого поделим кол-во прибылей, которые меньше 10млрд на общее кол-во прибылей в регионе."
      ],
      "metadata": {
        "id": "QWYSrYBYsUev"
      }
    },
    {
      "cell_type": "code",
      "source": [
        "for index, region in enumerate(region_profits):\n",
        "    sns.histplot(region)\n",
        "    plt.axvline(region.mean(), ls ='--', lw=2.5, color='black', label = 'mean')\n",
        "    plt.xlabel('Profit')\n",
        "    plt.title(str(index+1) + ' region profit distribution')\n",
        "    lower = region.quantile(0.025)\n",
        "    upper = region.quantile(0.975)\n",
        "    print(f'95 % доверительный интервал: [{lower}, {upper}]')\n",
        "    print('Mean:', region.mean())\n",
        "    print(f'Риск убытков: {len(region[region < 0]) / len(region):.1%}')\n",
        "    plt.legend()\n",
        "    plt.show()\n",
        "    print('-'*67,'\\n')"
      ],
      "metadata": {
        "colab": {
          "base_uri": "https://localhost:8080/",
          "height": 1000
        },
        "id": "C6jPgv7_sZGK",
        "outputId": "071f2b15-0edc-4035-bed7-50b804290637"
      },
      "execution_count": 25,
      "outputs": [
        {
          "output_type": "stream",
          "name": "stdout",
          "text": [
            "95 % доверительный интервал: [-99521822.07296467, 934598929.1092478]\n",
            "Mean: 417922387.717704\n",
            "Риск убытков: 4.6%\n"
          ]
        },
        {
          "output_type": "display_data",
          "data": {
            "text/plain": [
              "<Figure size 432x288 with 1 Axes>"
            ],
            "image/png": "[encoded data removed]"
          },
          "metadata": {}
        },
        {
          "output_type": "stream",
          "name": "stdout",
          "text": [
            "------------------------------------------------------------------- \n",
            "\n",
            "95 % доверительный интервал: [48942843.83350754, 852521148.2445186]\n",
            "Mean: 450387906.5620281\n",
            "Риск убытков: 1.6%\n"
          ]
        },
        {
          "output_type": "display_data",
          "data": {
            "text/plain": [
              "<Figure size 432x288 with 1 Axes>"
            ],
            "image/png": "[encoded data removed]"
          },
          "metadata": {}
        },
        {
          "output_type": "stream",
          "name": "stdout",
          "text": [
            "------------------------------------------------------------------- \n",
            "\n",
            "95 % доверительный интервал: [-120059599.18631457, 886053186.9137956]\n",
            "Mean: 368649402.03789675\n",
            "Риск убытков: 6.8%\n"
          ]
        },
        {
          "output_type": "display_data",
          "data": {
            "text/plain": [
              "<Figure size 432x288 with 1 Axes>"
            ],
            "image/png": "[encoded data removed]"
          },
          "metadata": {}
        },
        {
          "output_type": "stream",
          "name": "stdout",
          "text": [
            "------------------------------------------------------------------- \n",
            "\n"
          ]
        }
      ]
    },
    {
      "cell_type": "markdown",
      "source": [
        "У всех регионов чистая прибыль распределена нормально. Только у второго региона 95% доверительный интервал не имеет отрицательных значений, то есть потенциальных убытков, а также у второго региона самый маленький риск, по сравнению с другими регионами."
      ],
      "metadata": {
        "id": "CcQ7os0rtBZy"
      }
    },
    {
      "cell_type": "markdown",
      "source": [
        "# **Сonclusion**"
      ],
      "metadata": {
        "id": "fueaB07Kt_nw"
      }
    },
    {
      "cell_type": "markdown",
      "source": [
        "<b> Лучшим регионом для добычи нефти будет второй, так как там самый минимальный риск, максимальное среднее и полностью прибыльный 95% доверительный интервал, в отличии от других регионов.   </b>"
      ],
      "metadata": {
        "id": "8osv3dOvuGlo"
      }
    }
  ]
}